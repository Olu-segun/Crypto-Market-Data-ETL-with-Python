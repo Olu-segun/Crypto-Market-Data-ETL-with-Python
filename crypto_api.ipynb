{
 "cells": [
  {
   "cell_type": "code",
   "execution_count": 22,
   "metadata": {},
   "outputs": [],
   "source": [
    "import requests \n",
    "import pandas as pd \n",
    "from datetime import datetime"
   ]
  },
  {
   "cell_type": "code",
   "execution_count": null,
   "metadata": {},
   "outputs": [],
   "source": [
    "#Api Information\n",
    "url = 'https://api.coingecko.com/api/v3/coins/markets'\n",
    "param = {\n",
    "    'vs_currency' : 'usd',\n",
    "    'order' : 'market_cap_desc',\n",
    "    'per_page': 250,\n",
    "    'page': 1\n",
    "}\n",
    "\n",
    "#Sending request to Api\n",
    "response = requests.get(url, params= param) \n",
    "\n",
    "if response.status_code == 200: \n",
    "    print('Connection Successfull! \\nGetting the data......')\n",
    "\n",
    "#Storing the response into the json file\n",
    "    data = response.json() \n",
    "\n",
    "#Converting the json file to dataframe\n",
    "    df = pd.DataFrame(data)\n",
    "\n",
    "#Selecting the needed columns from the dataframe\n",
    "    df = df[[\n",
    "        'id','current_price', 'market_cap', 'price_change_percentage_24h',\n",
    "        'ath', 'atl'\n",
    "    ]]\n",
    "#Creating a new column (date column)\n",
    "    today = datetime.now().strftime('%d-%m-%Y, %H:%M:%S')\n",
    "    df['time stamp'] = today \n",
    " \n",
    "#Saving the data to csv file\n",
    "    # df.to_csv(f'crypto_data for {today}.csv', index= False)\n",
    "    df.to_csv('crypto_data.csv', index=False) \n",
    "    \n",
    "\n",
    "#Selecting the top 10 positive\n",
    "    top_positive = df.sort_values(by='price_change_percentage_24h', ascending= False) \n",
    "    top_10_positive = top_positive.head(10)\n",
    "    top_10_positive .to_csv('top_ten_positive.csv', index= False)\n",
    "\n",
    "#Selecting the top 10 negative\n",
    "    top_negative = df.sort_values(by='price_change_percentage_24h', ascending= True) \n",
    "    top_10_negative= top_negative.head(10) \n",
    "    top_10_negative.to_csv('top_ten_negative.csv', index= False)\n",
    "\n",
    "    print(\"Data saved successfull!\")\n",
    "\n",
    "else: \n",
    "    print(f'Connection Failed Error Code {response.status_code}')\n",
    "\n"
   ]
  }
 ],
 "metadata": {
  "kernelspec": {
   "display_name": "crypto_project",
   "language": "python",
   "name": "python3"
  },
  "language_info": {
   "codemirror_mode": {
    "name": "ipython",
    "version": 3
   },
   "file_extension": ".py",
   "mimetype": "text/x-python",
   "name": "python",
   "nbconvert_exporter": "python",
   "pygments_lexer": "ipython3",
   "version": "3.13.2"
  }
 },
 "nbformat": 4,
 "nbformat_minor": 2
}
